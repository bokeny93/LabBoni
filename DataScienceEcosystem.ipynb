{
 "cells": [
  {
   "cell_type": "markdown",
   "id": "e8c63135-409e-4d0d-97af-4280243c4c20",
   "metadata": {
    "tags": []
   },
   "source": [
    "# Data Science Tools and Ecosystem"
   ]
  },
  {
   "cell_type": "markdown",
   "id": "57a3b08c-21ec-4aa5-9e30-36859d31d10c",
   "metadata": {
    "tags": []
   },
   "source": [
    "## In this notebook, Data Science Tools and Ecosystem are summarized."
   ]
  },
  {
   "cell_type": "markdown",
   "id": "1e6eab60-dea3-4cc3-9bb7-019488f8ec67",
   "metadata": {},
   "source": [
    "Some of the popular languages that Data Scientists use are:\n",
    "1. R\n",
    "2. Python\n",
    "3. SQL\n",
    "4. Java\n",
    "5. Scala\n",
    "6. Julia"
   ]
  },
  {
   "cell_type": "markdown",
   "id": "0fcc05ce-cceb-4333-a285-cfdaa7bfebf5",
   "metadata": {},
   "source": [
    "Some of the commonly used libraries used by Data Scientists include:\n",
    "1. Pandas\n",
    "2. NumPy\n",
    "3. Matplotlib\n",
    "4. Seaborn "
   ]
  },
  {
   "cell_type": "markdown",
   "id": "6838fe29-717b-40ae-8cd3-81e18e3cfc9d",
   "metadata": {
    "tags": []
   },
   "source": [
    "| Data Science Tools|\n",
    "|------------------|\n",
    "|Jupyter|\n",
    "|RStudio|\n",
    "|Appache Zeppelin|"
   ]
  },
  {
   "cell_type": "markdown",
   "id": "1d116760-3d71-4714-a4c8-3b26be27f9c3",
   "metadata": {
    "tags": []
   },
   "source": [
    "### Below are a few examples of evaluating arithmetic expressions in Python"
   ]
  },
  {
   "cell_type": "code",
   "execution_count": 21,
   "id": "bb80ecf0-6388-4a78-aed1-94cdd838d8e4",
   "metadata": {
    "tags": []
   },
   "outputs": [
    {
     "name": "stdout",
     "output_type": "stream",
     "text": [
      "This a simple arithmetic expression to mutiply then add integer\n"
     ]
    },
    {
     "data": {
      "text/plain": [
       "17"
      ]
     },
     "execution_count": 21,
     "metadata": {},
     "output_type": "execute_result"
    }
   ],
   "source": [
    "print(\"This a simple arithmetic expression to mutiply then add integer\")\n",
    "(3*4)+5"
   ]
  },
  {
   "cell_type": "code",
   "execution_count": 22,
   "id": "e8afbb32-0152-497f-b905-7c78c3ce3d40",
   "metadata": {
    "tags": []
   },
   "outputs": [
    {
     "name": "stdout",
     "output_type": "stream",
     "text": [
      "This will convert 200 minutes to hours by diving by 60\n"
     ]
    },
    {
     "data": {
      "text/plain": [
       "3.3333333333333335"
      ]
     },
     "execution_count": 22,
     "metadata": {},
     "output_type": "execute_result"
    }
   ],
   "source": [
    "print(\"This will convert 200 minutes to hours by diving by 60\")\n",
    "200 / 60"
   ]
  },
  {
   "cell_type": "markdown",
   "id": "7ad3fe8c-f071-4d5d-8ad0-d227db9a8558",
   "metadata": {},
   "source": [
    "### some of the key takeaways from the course"
   ]
  },
  {
   "cell_type": "markdown",
   "id": "321f599d-e685-4125-86a8-5982a3152d8d",
   "metadata": {
    "tags": []
   },
   "source": [
    "***Objectives:***\n",
    "- List popular languages for Data Science\n",
    "- List commonly used libraries in data science\n",
    "- Create a single column table in cell with the first row containing the header\n",
    "- Evaluate arithmetic expressions in Python\n",
    "- Insert a comment line before expression to explain the operation"
   ]
  },
  {
   "cell_type": "markdown",
   "id": "a470be31-8e7b-43c0-9936-0e10a4115b9d",
   "metadata": {},
   "source": [
    "## Author\n",
    "Boni Kenneth Rodolphe Chabi"
   ]
  },
  {
   "cell_type": "code",
   "execution_count": null,
   "id": "b0370ecd-5085-4f9e-b6ec-0be9d7391892",
   "metadata": {},
   "outputs": [],
   "source": []
  }
 ],
 "metadata": {
  "kernelspec": {
   "display_name": "Python",
   "language": "python",
   "name": "conda-env-python-py"
  },
  "language_info": {
   "codemirror_mode": {
    "name": "ipython",
    "version": 3
   },
   "file_extension": ".py",
   "mimetype": "text/x-python",
   "name": "python",
   "nbconvert_exporter": "python",
   "pygments_lexer": "ipython3",
   "version": "3.7.12"
  }
 },
 "nbformat": 4,
 "nbformat_minor": 5
}
